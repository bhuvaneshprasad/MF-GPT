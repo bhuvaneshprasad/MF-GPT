{
 "cells": [
  {
   "cell_type": "code",
   "execution_count": 2,
   "metadata": {},
   "outputs": [],
   "source": [
    "import pandas as pd\n",
    "from thefuzz import fuzz\n",
    "from thefuzz import process"
   ]
  },
  {
   "cell_type": "code",
   "execution_count": 8,
   "metadata": {},
   "outputs": [],
   "source": [
    "df1 = pd.read_csv('daily_nav - Copy.csv')\n",
    "df2 = pd.read_csv('amfi_nav.csv')"
   ]
  },
  {
   "cell_type": "code",
   "execution_count": 10,
   "metadata": {},
   "outputs": [
    {
     "data": {
      "text/html": [
       "<div>\n",
       "<style scoped>\n",
       "    .dataframe tbody tr th:only-of-type {\n",
       "        vertical-align: middle;\n",
       "    }\n",
       "\n",
       "    .dataframe tbody tr th {\n",
       "        vertical-align: top;\n",
       "    }\n",
       "\n",
       "    .dataframe thead th {\n",
       "        text-align: right;\n",
       "    }\n",
       "</style>\n",
       "<table border=\"1\" class=\"dataframe\">\n",
       "  <thead>\n",
       "    <tr style=\"text-align: right;\">\n",
       "      <th></th>\n",
       "      <th>scheme_code</th>\n",
       "      <th>scheme_name</th>\n",
       "      <th>nav_date</th>\n",
       "      <th>nav</th>\n",
       "    </tr>\n",
       "  </thead>\n",
       "  <tbody>\n",
       "    <tr>\n",
       "      <th>0</th>\n",
       "      <td>48204</td>\n",
       "      <td>360 ONE Balanced Hybrid Fund(G)-Direct Plan</td>\n",
       "      <td>7/22/2024 12:00:00 AM</td>\n",
       "      <td>12.3036</td>\n",
       "    </tr>\n",
       "  </tbody>\n",
       "</table>\n",
       "</div>"
      ],
      "text/plain": [
       "   scheme_code                                  scheme_name  \\\n",
       "0        48204  360 ONE Balanced Hybrid Fund(G)-Direct Plan   \n",
       "\n",
       "                nav_date      nav  \n",
       "0  7/22/2024 12:00:00 AM  12.3036  "
      ]
     },
     "execution_count": 10,
     "metadata": {},
     "output_type": "execute_result"
    }
   ],
   "source": [
    "df1.head(1)"
   ]
  },
  {
   "cell_type": "code",
   "execution_count": 4,
   "metadata": {},
   "outputs": [],
   "source": [
    "def normalize_name(name):\n",
    "    return ''.join(e for e in name if e.isalnum()).lower()"
   ]
  },
  {
   "cell_type": "code",
   "execution_count": 11,
   "metadata": {},
   "outputs": [],
   "source": [
    "df1['normalized_name'] = df1['scheme_name'].apply(normalize_name)\n",
    "df2['normalized_name'] = df2['scheme_name'].apply(normalize_name)"
   ]
  },
  {
   "cell_type": "code",
   "execution_count": 12,
   "metadata": {},
   "outputs": [],
   "source": [
    "def match_names(name, choices, scorer=fuzz.token_sort_ratio, cutoff=80):\n",
    "    match, score = process.extractOne(name, choices, scorer=scorer)\n",
    "    if score >= cutoff:\n",
    "        return match\n",
    "    else:\n",
    "        return None"
   ]
  },
  {
   "cell_type": "code",
   "execution_count": 13,
   "metadata": {},
   "outputs": [],
   "source": [
    "normalized_to_original = df2.set_index('normalized_name')['scheme_name'].to_dict()"
   ]
  },
  {
   "cell_type": "code",
   "execution_count": 14,
   "metadata": {},
   "outputs": [],
   "source": [
    "df1['matched_name'] = df1['normalized_name'].apply(lambda x: match_names(x, normalized_to_original.keys()))"
   ]
  },
  {
   "cell_type": "code",
   "execution_count": 17,
   "metadata": {},
   "outputs": [
    {
     "data": {
      "text/html": [
       "<div>\n",
       "<style scoped>\n",
       "    .dataframe tbody tr th:only-of-type {\n",
       "        vertical-align: middle;\n",
       "    }\n",
       "\n",
       "    .dataframe tbody tr th {\n",
       "        vertical-align: top;\n",
       "    }\n",
       "\n",
       "    .dataframe thead th {\n",
       "        text-align: right;\n",
       "    }\n",
       "</style>\n",
       "<table border=\"1\" class=\"dataframe\">\n",
       "  <thead>\n",
       "    <tr style=\"text-align: right;\">\n",
       "      <th></th>\n",
       "      <th>scheme_code</th>\n",
       "      <th>scheme_name</th>\n",
       "      <th>nav_date</th>\n",
       "      <th>nav</th>\n",
       "      <th>normalized_name</th>\n",
       "      <th>matched_name</th>\n",
       "      <th>matched_scheme_name</th>\n",
       "    </tr>\n",
       "  </thead>\n",
       "  <tbody>\n",
       "    <tr>\n",
       "      <th>0</th>\n",
       "      <td>48204</td>\n",
       "      <td>360 ONE Balanced Hybrid Fund(G)-Direct Plan</td>\n",
       "      <td>7/22/2024 12:00:00 AM</td>\n",
       "      <td>12.3036</td>\n",
       "      <td>360onebalancedhybridfundgdirectplan</td>\n",
       "      <td>360onebalancedhybridfunddirectplanidcw</td>\n",
       "      <td>360 ONE Balanced Hybrid Fund - Direct Plan - IDCW</td>\n",
       "    </tr>\n",
       "  </tbody>\n",
       "</table>\n",
       "</div>"
      ],
      "text/plain": [
       "   scheme_code                                  scheme_name  \\\n",
       "0        48204  360 ONE Balanced Hybrid Fund(G)-Direct Plan   \n",
       "\n",
       "                nav_date      nav                      normalized_name  \\\n",
       "0  7/22/2024 12:00:00 AM  12.3036  360onebalancedhybridfundgdirectplan   \n",
       "\n",
       "                             matched_name  \\\n",
       "0  360onebalancedhybridfunddirectplanidcw   \n",
       "\n",
       "                                 matched_scheme_name  \n",
       "0  360 ONE Balanced Hybrid Fund - Direct Plan - IDCW  "
      ]
     },
     "execution_count": 17,
     "metadata": {},
     "output_type": "execute_result"
    }
   ],
   "source": [
    "df1.head(1)"
   ]
  },
  {
   "cell_type": "code",
   "execution_count": 20,
   "metadata": {},
   "outputs": [
    {
     "data": {
      "text/html": [
       "<div>\n",
       "<style scoped>\n",
       "    .dataframe tbody tr th:only-of-type {\n",
       "        vertical-align: middle;\n",
       "    }\n",
       "\n",
       "    .dataframe tbody tr th {\n",
       "        vertical-align: top;\n",
       "    }\n",
       "\n",
       "    .dataframe thead th {\n",
       "        text-align: right;\n",
       "    }\n",
       "</style>\n",
       "<table border=\"1\" class=\"dataframe\">\n",
       "  <thead>\n",
       "    <tr style=\"text-align: right;\">\n",
       "      <th></th>\n",
       "      <th>Scheme Code</th>\n",
       "      <th>ISIN Div Payout/ ISIN Growth</th>\n",
       "      <th>ISIN Div Reinvestment</th>\n",
       "      <th>scheme_name</th>\n",
       "      <th>Net Asset Value</th>\n",
       "      <th>Date</th>\n",
       "      <th>normalized_name</th>\n",
       "    </tr>\n",
       "  </thead>\n",
       "  <tbody>\n",
       "    <tr>\n",
       "      <th>0</th>\n",
       "      <td>119551</td>\n",
       "      <td>INF209KA12Z1</td>\n",
       "      <td>INF209KA13Z9</td>\n",
       "      <td>Aditya Birla Sun Life Banking &amp; PSU Debt Fund ...</td>\n",
       "      <td>105.223</td>\n",
       "      <td>22-Jul-24</td>\n",
       "      <td>adityabirlasunlifebankingpsudebtfunddirectidcw</td>\n",
       "    </tr>\n",
       "  </tbody>\n",
       "</table>\n",
       "</div>"
      ],
      "text/plain": [
       "   Scheme Code ISIN Div Payout/ ISIN Growth ISIN Div Reinvestment  \\\n",
       "0       119551                 INF209KA12Z1          INF209KA13Z9   \n",
       "\n",
       "                                         scheme_name Net Asset Value  \\\n",
       "0  Aditya Birla Sun Life Banking & PSU Debt Fund ...         105.223   \n",
       "\n",
       "        Date                                 normalized_name  \n",
       "0  22-Jul-24  adityabirlasunlifebankingpsudebtfunddirectidcw  "
      ]
     },
     "execution_count": 20,
     "metadata": {},
     "output_type": "execute_result"
    }
   ],
   "source": [
    "df2.head(1)"
   ]
  },
  {
   "cell_type": "code",
   "execution_count": 24,
   "metadata": {},
   "outputs": [],
   "source": [
    "df1['matched_scheme_name'] = df1['matched_name'].map(normalized_to_original)"
   ]
  },
  {
   "cell_type": "code",
   "execution_count": null,
   "metadata": {},
   "outputs": [],
   "source": [
    "# df1['amfi_code'] = df1['matched_name'].map(df2.set_index('normalized_name')['Scheme Code'])"
   ]
  },
  {
   "cell_type": "code",
   "execution_count": 25,
   "metadata": {},
   "outputs": [],
   "source": [
    "merged_df = df1.merge(df2, left_on='matched_scheme_name', right_on='scheme_name', how='left')"
   ]
  },
  {
   "cell_type": "code",
   "execution_count": null,
   "metadata": {},
   "outputs": [],
   "source": [
    "merged_df = merged_df[['scheme_code', 'scheme_name_x', 'amfi_code']]\n",
    "merged_df.rename(columns={'scheme_name_x': 'scheme_name'}, inplace=True)"
   ]
  },
  {
   "cell_type": "code",
   "execution_count": 28,
   "metadata": {},
   "outputs": [
    {
     "data": {
      "text/html": [
       "<div>\n",
       "<style scoped>\n",
       "    .dataframe tbody tr th:only-of-type {\n",
       "        vertical-align: middle;\n",
       "    }\n",
       "\n",
       "    .dataframe tbody tr th {\n",
       "        vertical-align: top;\n",
       "    }\n",
       "\n",
       "    .dataframe thead th {\n",
       "        text-align: right;\n",
       "    }\n",
       "</style>\n",
       "<table border=\"1\" class=\"dataframe\">\n",
       "  <thead>\n",
       "    <tr style=\"text-align: right;\">\n",
       "      <th></th>\n",
       "      <th>scheme_code</th>\n",
       "      <th>scheme_name_x</th>\n",
       "      <th>nav_date</th>\n",
       "      <th>nav</th>\n",
       "      <th>normalized_name_x</th>\n",
       "      <th>matched_name</th>\n",
       "      <th>matched_scheme_name</th>\n",
       "      <th>Scheme Code</th>\n",
       "      <th>ISIN Div Payout/ ISIN Growth</th>\n",
       "      <th>ISIN Div Reinvestment</th>\n",
       "      <th>scheme_name_y</th>\n",
       "      <th>Net Asset Value</th>\n",
       "      <th>Date</th>\n",
       "      <th>normalized_name_y</th>\n",
       "    </tr>\n",
       "  </thead>\n",
       "  <tbody>\n",
       "    <tr>\n",
       "      <th>0</th>\n",
       "      <td>48204</td>\n",
       "      <td>360 ONE Balanced Hybrid Fund(G)-Direct Plan</td>\n",
       "      <td>7/22/2024 12:00:00 AM</td>\n",
       "      <td>12.3036</td>\n",
       "      <td>360onebalancedhybridfundgdirectplan</td>\n",
       "      <td>360onebalancedhybridfunddirectplanidcw</td>\n",
       "      <td>360 ONE Balanced Hybrid Fund - Direct Plan - IDCW</td>\n",
       "      <td>152073.0</td>\n",
       "      <td>INF579M01AZ6</td>\n",
       "      <td>INF579M01BA7</td>\n",
       "      <td>360 ONE Balanced Hybrid Fund - Direct Plan - IDCW</td>\n",
       "      <td>12.3036</td>\n",
       "      <td>22-Jul-24</td>\n",
       "      <td>360onebalancedhybridfunddirectplanidcw</td>\n",
       "    </tr>\n",
       "    <tr>\n",
       "      <th>1</th>\n",
       "      <td>48205</td>\n",
       "      <td>360 ONE Balanced Hybrid Fund(IDCW)-Direct Plan</td>\n",
       "      <td>7/22/2024 12:00:00 AM</td>\n",
       "      <td>12.3036</td>\n",
       "      <td>360onebalancedhybridfundidcwdirectplan</td>\n",
       "      <td>360onebalancedhybridfunddirectplanidcw</td>\n",
       "      <td>360 ONE Balanced Hybrid Fund - Direct Plan - IDCW</td>\n",
       "      <td>152073.0</td>\n",
       "      <td>INF579M01AZ6</td>\n",
       "      <td>INF579M01BA7</td>\n",
       "      <td>360 ONE Balanced Hybrid Fund - Direct Plan - IDCW</td>\n",
       "      <td>12.3036</td>\n",
       "      <td>22-Jul-24</td>\n",
       "      <td>360onebalancedhybridfunddirectplanidcw</td>\n",
       "    </tr>\n",
       "    <tr>\n",
       "      <th>2</th>\n",
       "      <td>48144</td>\n",
       "      <td>360 ONE Balanced Hybrid Fund-Reg(G)</td>\n",
       "      <td>7/22/2024 12:00:00 AM</td>\n",
       "      <td>12.1531</td>\n",
       "      <td>360onebalancedhybridfundregg</td>\n",
       "      <td>360onebalancedhybridfundregularplangrowth</td>\n",
       "      <td>360 ONE Balanced Hybrid Fund - Regular Plan - ...</td>\n",
       "      <td>152075.0</td>\n",
       "      <td>INF579M01AV5</td>\n",
       "      <td>-</td>\n",
       "      <td>360 ONE Balanced Hybrid Fund - Regular Plan - ...</td>\n",
       "      <td>12.1531</td>\n",
       "      <td>22-Jul-24</td>\n",
       "      <td>360onebalancedhybridfundregularplangrowth</td>\n",
       "    </tr>\n",
       "    <tr>\n",
       "      <th>3</th>\n",
       "      <td>48203</td>\n",
       "      <td>360 ONE Balanced Hybrid Fund-Reg(IDCW)</td>\n",
       "      <td>7/22/2024 12:00:00 AM</td>\n",
       "      <td>12.1531</td>\n",
       "      <td>360onebalancedhybridfundregidcw</td>\n",
       "      <td>360onebalancedhyrbridfundregularplanidcw</td>\n",
       "      <td>360 ONE Balanced Hyrbrid fund - Regular Plan -...</td>\n",
       "      <td>152074.0</td>\n",
       "      <td>INF579M01AW3</td>\n",
       "      <td>INF579M01AX1</td>\n",
       "      <td>360 ONE Balanced Hyrbrid fund - Regular Plan -...</td>\n",
       "      <td>12.1531</td>\n",
       "      <td>22-Jul-24</td>\n",
       "      <td>360onebalancedhyrbridfundregularplanidcw</td>\n",
       "    </tr>\n",
       "    <tr>\n",
       "      <th>4</th>\n",
       "      <td>22085</td>\n",
       "      <td>360 ONE Dynamic Bond Fund(G)-Direct Plan</td>\n",
       "      <td>7/22/2024 12:00:00 AM</td>\n",
       "      <td>21.7659</td>\n",
       "      <td>360onedynamicbondfundgdirectplan</td>\n",
       "      <td>360onedynamicbondfunddirectplangrowth</td>\n",
       "      <td>360 ONE Dynamic Bond Fund Direct Plan Growth</td>\n",
       "      <td>122715.0</td>\n",
       "      <td>INF579M01266</td>\n",
       "      <td>-</td>\n",
       "      <td>360 ONE Dynamic Bond Fund Direct Plan Growth</td>\n",
       "      <td>21.7659</td>\n",
       "      <td>22-Jul-24</td>\n",
       "      <td>360onedynamicbondfunddirectplangrowth</td>\n",
       "    </tr>\n",
       "  </tbody>\n",
       "</table>\n",
       "</div>"
      ],
      "text/plain": [
       "   scheme_code                                   scheme_name_x  \\\n",
       "0        48204     360 ONE Balanced Hybrid Fund(G)-Direct Plan   \n",
       "1        48205  360 ONE Balanced Hybrid Fund(IDCW)-Direct Plan   \n",
       "2        48144             360 ONE Balanced Hybrid Fund-Reg(G)   \n",
       "3        48203          360 ONE Balanced Hybrid Fund-Reg(IDCW)   \n",
       "4        22085        360 ONE Dynamic Bond Fund(G)-Direct Plan   \n",
       "\n",
       "                nav_date      nav                       normalized_name_x  \\\n",
       "0  7/22/2024 12:00:00 AM  12.3036     360onebalancedhybridfundgdirectplan   \n",
       "1  7/22/2024 12:00:00 AM  12.3036  360onebalancedhybridfundidcwdirectplan   \n",
       "2  7/22/2024 12:00:00 AM  12.1531            360onebalancedhybridfundregg   \n",
       "3  7/22/2024 12:00:00 AM  12.1531         360onebalancedhybridfundregidcw   \n",
       "4  7/22/2024 12:00:00 AM  21.7659        360onedynamicbondfundgdirectplan   \n",
       "\n",
       "                                matched_name  \\\n",
       "0     360onebalancedhybridfunddirectplanidcw   \n",
       "1     360onebalancedhybridfunddirectplanidcw   \n",
       "2  360onebalancedhybridfundregularplangrowth   \n",
       "3   360onebalancedhyrbridfundregularplanidcw   \n",
       "4      360onedynamicbondfunddirectplangrowth   \n",
       "\n",
       "                                 matched_scheme_name  Scheme Code  \\\n",
       "0  360 ONE Balanced Hybrid Fund - Direct Plan - IDCW     152073.0   \n",
       "1  360 ONE Balanced Hybrid Fund - Direct Plan - IDCW     152073.0   \n",
       "2  360 ONE Balanced Hybrid Fund - Regular Plan - ...     152075.0   \n",
       "3  360 ONE Balanced Hyrbrid fund - Regular Plan -...     152074.0   \n",
       "4       360 ONE Dynamic Bond Fund Direct Plan Growth     122715.0   \n",
       "\n",
       "  ISIN Div Payout/ ISIN Growth ISIN Div Reinvestment  \\\n",
       "0                 INF579M01AZ6          INF579M01BA7   \n",
       "1                 INF579M01AZ6          INF579M01BA7   \n",
       "2                 INF579M01AV5                     -   \n",
       "3                 INF579M01AW3          INF579M01AX1   \n",
       "4                 INF579M01266                     -   \n",
       "\n",
       "                                       scheme_name_y Net Asset Value  \\\n",
       "0  360 ONE Balanced Hybrid Fund - Direct Plan - IDCW         12.3036   \n",
       "1  360 ONE Balanced Hybrid Fund - Direct Plan - IDCW         12.3036   \n",
       "2  360 ONE Balanced Hybrid Fund - Regular Plan - ...         12.1531   \n",
       "3  360 ONE Balanced Hyrbrid fund - Regular Plan -...         12.1531   \n",
       "4       360 ONE Dynamic Bond Fund Direct Plan Growth         21.7659   \n",
       "\n",
       "        Date                          normalized_name_y  \n",
       "0  22-Jul-24     360onebalancedhybridfunddirectplanidcw  \n",
       "1  22-Jul-24     360onebalancedhybridfunddirectplanidcw  \n",
       "2  22-Jul-24  360onebalancedhybridfundregularplangrowth  \n",
       "3  22-Jul-24   360onebalancedhyrbridfundregularplanidcw  \n",
       "4  22-Jul-24      360onedynamicbondfunddirectplangrowth  "
      ]
     },
     "execution_count": 28,
     "metadata": {},
     "output_type": "execute_result"
    }
   ],
   "source": [
    "merged_df.head()"
   ]
  },
  {
   "cell_type": "code",
   "execution_count": 29,
   "metadata": {},
   "outputs": [],
   "source": [
    "merged_df.to_csv('merged_table.csv', index=False)"
   ]
  },
  {
   "cell_type": "code",
   "execution_count": null,
   "metadata": {},
   "outputs": [],
   "source": []
  }
 ],
 "metadata": {
  "kernelspec": {
   "display_name": "venv",
   "language": "python",
   "name": "python3"
  },
  "language_info": {
   "codemirror_mode": {
    "name": "ipython",
    "version": 3
   },
   "file_extension": ".py",
   "mimetype": "text/x-python",
   "name": "python",
   "nbconvert_exporter": "python",
   "pygments_lexer": "ipython3",
   "version": "3.12.2"
  }
 },
 "nbformat": 4,
 "nbformat_minor": 2
}
